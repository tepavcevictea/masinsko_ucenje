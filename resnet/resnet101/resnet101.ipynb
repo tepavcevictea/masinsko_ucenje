{
 "cells": [
  {
   "cell_type": "markdown",
   "metadata": {},
   "source": [
    "# Resnet 101 dropout 0,4"
   ]
  },
  {
   "cell_type": "code",
   "execution_count": 6,
   "metadata": {},
   "outputs": [],
   "source": [
    "import os\n",
    "import cv2\n",
    "import numpy as np\n",
    "import tensorflow as tf\n",
    "from tensorflow.keras.models import Model\n",
    "from tensorflow.keras.layers import Input, Lambda, GlobalAveragePooling2D, Dense, BatchNormalization, Dropout\n",
    "from tensorflow.keras.applications import ResNet101\n",
    "from tensorflow.keras.preprocessing.image import ImageDataGenerator\n",
    "from sklearn.model_selection import train_test_split\n",
    "from sklearn.metrics import classification_report\n",
    "import pandas as pd\n",
    "import matplotlib.pyplot as plt\n",
    "from tensorflow.keras.callbacks import ModelCheckpoint"
   ]
  },
  {
   "cell_type": "markdown",
   "metadata": {},
   "source": [
    "Lokacija dataset-a"
   ]
  },
  {
   "cell_type": "code",
   "execution_count": 7,
   "metadata": {},
   "outputs": [],
   "source": [
    "dataset_path = \"../../data_set\""
   ]
  },
  {
   "cell_type": "code",
   "execution_count": 8,
   "metadata": {},
   "outputs": [],
   "source": [
    "classes = [\"glioma_tumor\", \"meningioma_tumor\", \"no_tumor\", \"pituitary_tumor\"]\n"
   ]
  },
  {
   "cell_type": "markdown",
   "metadata": {},
   "source": [
    "Inicijalizacija lista za cuvanje podataka\n"
   ]
  },
  {
   "cell_type": "code",
   "execution_count": 9,
   "metadata": {},
   "outputs": [],
   "source": [
    "data = []\n",
    "labels = []"
   ]
  },
  {
   "cell_type": "markdown",
   "metadata": {},
   "source": [
    "Ucitavanje slika kroz klase\n"
   ]
  },
  {
   "cell_type": "code",
   "execution_count": 10,
   "metadata": {},
   "outputs": [],
   "source": [
    "for class_name in classes:\n",
    "    class_path = os.path.join(dataset_path, \"Training\", class_name)\n",
    "    for filename in os.listdir(class_path):\n",
    "        img_path = os.path.join(class_path, filename)\n",
    "        img = cv2.imread(img_path, cv2.IMREAD_GRAYSCALE)  # Učitavanje slike u crno-belom formatu\n",
    "        img = cv2.resize(img, (224, 224))  # Da sve slike budu 224x224px\n",
    "        img = np.stack((img,)*3, axis=-1)  # tri kanala od grayscale slike (resnet-u treba 3 kanala)\n",
    "        data.append(img)\n",
    "        labels.append(classes.index(class_name))"
   ]
  },
  {
   "cell_type": "markdown",
   "metadata": {},
   "source": [
    "Konvertovanje listi u numpy\n"
   ]
  },
  {
   "cell_type": "code",
   "execution_count": 11,
   "metadata": {},
   "outputs": [],
   "source": [
    "data = np.array(data) / 255.0  # Normalizacija vrednosti piksela\n",
    "\n",
    "labels = np.array(labels)"
   ]
  },
  {
   "cell_type": "code",
   "execution_count": 12,
   "metadata": {},
   "outputs": [],
   "source": [
    "X_train, X_val, y_train, y_val = train_test_split(data, labels, test_size=0.2, random_state=42)\n"
   ]
  },
  {
   "cell_type": "markdown",
   "metadata": {},
   "source": [
    "ImageDataGenerator za data augmentation\n"
   ]
  },
  {
   "cell_type": "code",
   "execution_count": 13,
   "metadata": {},
   "outputs": [],
   "source": [
    "datagen = ImageDataGenerator(\n",
    "    rotation_range=20,\n",
    "    width_shift_range=0.2,\n",
    "    height_shift_range=0.2,\n",
    "    shear_range=0.2,\n",
    "    zoom_range=0.2,\n",
    "    horizontal_flip=True,\n",
    "    fill_mode=\"nearest\"\n",
    ")"
   ]
  },
  {
   "cell_type": "markdown",
   "metadata": {},
   "source": [
    "ResNet-50 model"
   ]
  },
  {
   "cell_type": "code",
   "execution_count": 14,
   "metadata": {},
   "outputs": [],
   "source": [
    "base_model = ResNet101(weights='imagenet', include_top=False, input_shape=(224, 224, 3))\n",
    "for layer in base_model.layers[-4:]:\n",
    "    layer.trainable = True"
   ]
  },
  {
   "cell_type": "markdown",
   "metadata": {},
   "source": [
    "Dodavanje prilagođenih slojeva"
   ]
  },
  {
   "cell_type": "code",
   "execution_count": 15,
   "metadata": {},
   "outputs": [],
   "source": [
    "inputs = Input(shape=(224, 224, 3))\n",
    "x = base_model(inputs, training=False)\n",
    "\n",
    "x = GlobalAveragePooling2D()(x)\n",
    "x = Dense(256, activation='relu', kernel_regularizer=tf.keras.regularizers.l2(0.01))(x)\n",
    "x = BatchNormalization()(x)\n",
    "x = Dense(128, activation='relu', kernel_regularizer=tf.keras.regularizers.l2(0.01))(x)\n",
    "x = Dropout(0.4)(x)\n",
    "outputs = Dense(len(classes), activation='softmax')(x)\n"
   ]
  },
  {
   "cell_type": "code",
   "execution_count": 16,
   "metadata": {},
   "outputs": [],
   "source": [
    "model = Model(inputs=inputs, outputs=outputs)\n",
    "model.compile(optimizer='adam', loss='sparse_categorical_crossentropy', metrics=['accuracy'])"
   ]
  },
  {
   "cell_type": "markdown",
   "metadata": {},
   "source": [
    "Cuvanje tezina"
   ]
  },
  {
   "cell_type": "code",
   "execution_count": 17,
   "metadata": {},
   "outputs": [],
   "source": [
    "\n",
    "checkpoint_path = \"model.weights.h5\" \n",
    "checkpoint = ModelCheckpoint(checkpoint_path, save_weights_only=True, save_best_only=True, monitor='val_loss', mode='min')"
   ]
  },
  {
   "cell_type": "markdown",
   "metadata": {},
   "source": [
    "Treniranje modela"
   ]
  },
  {
   "cell_type": "code",
   "execution_count": 13,
   "metadata": {},
   "outputs": [
    {
     "name": "stdout",
     "output_type": "stream",
     "text": [
      "Epoch 1/20\n"
     ]
    },
    {
     "name": "stderr",
     "output_type": "stream",
     "text": [
      "/home/teki/.local/lib/python3.10/site-packages/keras/src/trainers/data_adapters/py_dataset_adapter.py:121: UserWarning: Your `PyDataset` class should call `super().__init__(**kwargs)` in its constructor. `**kwargs` can include `workers`, `use_multiprocessing`, `max_queue_size`. Do not pass these arguments to `fit()`, as they will be ignored.\n",
      "  self._warn_if_super_not_called()\n"
     ]
    },
    {
     "name": "stdout",
     "output_type": "stream",
     "text": [
      "\u001b[1m574/574\u001b[0m \u001b[32m━━━━━━━━━━━━━━━━━━━━\u001b[0m\u001b[37m\u001b[0m \u001b[1m1236s\u001b[0m 2s/step - accuracy: 0.2961 - loss: 5.3944 - val_accuracy: 0.2718 - val_loss: 2.3336\n",
      "Epoch 2/20\n",
      "\u001b[1m574/574\u001b[0m \u001b[32m━━━━━━━━━━━━━━━━━━━━\u001b[0m\u001b[37m\u001b[0m \u001b[1m1236s\u001b[0m 2s/step - accuracy: 0.2780 - loss: 2.1047 - val_accuracy: 0.2927 - val_loss: 1.8260\n",
      "Epoch 3/20\n",
      "\u001b[1m574/574\u001b[0m \u001b[32m━━━━━━━━━━━━━━━━━━━━\u001b[0m\u001b[37m\u001b[0m \u001b[1m1236s\u001b[0m 2s/step - accuracy: 0.2968 - loss: 1.6192 - val_accuracy: 0.3693 - val_loss: 2.4170\n",
      "Epoch 4/20\n",
      "\u001b[1m574/574\u001b[0m \u001b[32m━━━━━━━━━━━━━━━━━━━━\u001b[0m\u001b[37m\u001b[0m \u001b[1m1236s\u001b[0m 2s/step - accuracy: 0.2916 - loss: 1.4650 - val_accuracy: 0.3850 - val_loss: 4.0209\n",
      "Epoch 5/20\n",
      "\u001b[1m574/574\u001b[0m \u001b[32m━━━━━━━━━━━━━━━━━━━━\u001b[0m\u001b[37m\u001b[0m \u001b[1m1239s\u001b[0m 2s/step - accuracy: 0.3325 - loss: 1.3554 - val_accuracy: 0.3885 - val_loss: 1.6587\n",
      "Epoch 6/20\n",
      "\u001b[1m574/574\u001b[0m \u001b[32m━━━━━━━━━━━━━━━━━━━━\u001b[0m\u001b[37m\u001b[0m \u001b[1m1248s\u001b[0m 2s/step - accuracy: 0.3663 - loss: 1.2793 - val_accuracy: 0.4843 - val_loss: 1.3428\n",
      "Epoch 7/20\n",
      "\u001b[1m574/574\u001b[0m \u001b[32m━━━━━━━━━━━━━━━━━━━━\u001b[0m\u001b[37m\u001b[0m \u001b[1m1246s\u001b[0m 2s/step - accuracy: 0.3974 - loss: 1.2702 - val_accuracy: 0.4443 - val_loss: 1.7561\n",
      "Epoch 8/20\n",
      "\u001b[1m574/574\u001b[0m \u001b[32m━━━━━━━━━━━━━━━━━━━━\u001b[0m\u001b[37m\u001b[0m \u001b[1m1234s\u001b[0m 2s/step - accuracy: 0.3732 - loss: 1.2668 - val_accuracy: 0.3328 - val_loss: 1.4721\n",
      "Epoch 9/20\n",
      "\u001b[1m574/574\u001b[0m \u001b[32m━━━━━━━━━━━━━━━━━━━━\u001b[0m\u001b[37m\u001b[0m \u001b[1m1240s\u001b[0m 2s/step - accuracy: 0.3737 - loss: 1.2771 - val_accuracy: 0.3972 - val_loss: 1.2083\n",
      "Epoch 10/20\n",
      "\u001b[1m574/574\u001b[0m \u001b[32m━━━━━━━━━━━━━━━━━━━━\u001b[0m\u001b[37m\u001b[0m \u001b[1m1237s\u001b[0m 2s/step - accuracy: 0.3949 - loss: 1.2736 - val_accuracy: 0.4129 - val_loss: 1.2254\n",
      "Epoch 11/20\n",
      "\u001b[1m574/574\u001b[0m \u001b[32m━━━━━━━━━━━━━━━━━━━━\u001b[0m\u001b[37m\u001b[0m \u001b[1m1243s\u001b[0m 2s/step - accuracy: 0.4272 - loss: 1.2334 - val_accuracy: 0.3310 - val_loss: 11.0322\n",
      "Epoch 12/20\n",
      "\u001b[1m574/574\u001b[0m \u001b[32m━━━━━━━━━━━━━━━━━━━━\u001b[0m\u001b[37m\u001b[0m \u001b[1m1237s\u001b[0m 2s/step - accuracy: 0.4151 - loss: 1.2460 - val_accuracy: 0.3519 - val_loss: 1.2550\n",
      "Epoch 13/20\n",
      "\u001b[1m574/574\u001b[0m \u001b[32m━━━━━━━━━━━━━━━━━━━━\u001b[0m\u001b[37m\u001b[0m \u001b[1m1235s\u001b[0m 2s/step - accuracy: 0.4026 - loss: 1.2400 - val_accuracy: 0.4582 - val_loss: 1.2212\n",
      "Epoch 14/20\n",
      "\u001b[1m574/574\u001b[0m \u001b[32m━━━━━━━━━━━━━━━━━━━━\u001b[0m\u001b[37m\u001b[0m \u001b[1m1231s\u001b[0m 2s/step - accuracy: 0.4068 - loss: 1.2602 - val_accuracy: 0.4408 - val_loss: 1.2057\n",
      "Epoch 15/20\n",
      "\u001b[1m574/574\u001b[0m \u001b[32m━━━━━━━━━━━━━━━━━━━━\u001b[0m\u001b[37m\u001b[0m \u001b[1m1236s\u001b[0m 2s/step - accuracy: 0.3934 - loss: 1.2927 - val_accuracy: 0.4024 - val_loss: 5.7910\n",
      "Epoch 16/20\n",
      "\u001b[1m574/574\u001b[0m \u001b[32m━━━━━━━━━━━━━━━━━━━━\u001b[0m\u001b[37m\u001b[0m \u001b[1m1239s\u001b[0m 2s/step - accuracy: 0.3887 - loss: 1.2578 - val_accuracy: 0.4686 - val_loss: 1.2611\n",
      "Epoch 17/20\n",
      "\u001b[1m574/574\u001b[0m \u001b[32m━━━━━━━━━━━━━━━━━━━━\u001b[0m\u001b[37m\u001b[0m \u001b[1m1232s\u001b[0m 2s/step - accuracy: 0.4080 - loss: 1.2465 - val_accuracy: 0.4547 - val_loss: 1.2225\n",
      "Epoch 18/20\n",
      "\u001b[1m574/574\u001b[0m \u001b[32m━━━━━━━━━━━━━━━━━━━━\u001b[0m\u001b[37m\u001b[0m \u001b[1m1232s\u001b[0m 2s/step - accuracy: 0.4226 - loss: 1.2300 - val_accuracy: 0.4268 - val_loss: 1.1879\n",
      "Epoch 19/20\n",
      "\u001b[1m574/574\u001b[0m \u001b[32m━━━━━━━━━━━━━━━━━━━━\u001b[0m\u001b[37m\u001b[0m \u001b[1m1249s\u001b[0m 2s/step - accuracy: 0.4146 - loss: 1.2511 - val_accuracy: 0.4268 - val_loss: 1.3011\n",
      "Epoch 20/20\n",
      "\u001b[1m574/574\u001b[0m \u001b[32m━━━━━━━━━━━━━━━━━━━━\u001b[0m\u001b[37m\u001b[0m \u001b[1m1245s\u001b[0m 2s/step - accuracy: 0.4017 - loss: 1.2468 - val_accuracy: 0.4216 - val_loss: 1.2188\n"
     ]
    }
   ],
   "source": [
    "history = model.fit(datagen.flow(X_train, y_train, batch_size=4), epochs=20, validation_data=(X_val, y_val), callbacks=[checkpoint])\n"
   ]
  },
  {
   "cell_type": "code",
   "execution_count": 18,
   "metadata": {},
   "outputs": [
    {
     "name": "stderr",
     "output_type": "stream",
     "text": [
      "/home/teki/.local/lib/python3.10/site-packages/keras/src/saving/saving_lib.py:415: UserWarning: Skipping variable loading for optimizer 'adam', because it has 2 variables whereas the saved optimizer has 850 variables. \n",
      "  saveable.load_own_variables(weights_store.get(inner_path))\n"
     ]
    }
   ],
   "source": [
    "model.load_weights(checkpoint_path)"
   ]
  },
  {
   "cell_type": "markdown",
   "metadata": {},
   "source": [
    "Evaluacija modela na test skupu\n"
   ]
  },
  {
   "cell_type": "code",
   "execution_count": 19,
   "metadata": {},
   "outputs": [],
   "source": [
    "test_data = []\n",
    "test_labels = []"
   ]
  },
  {
   "cell_type": "code",
   "execution_count": 20,
   "metadata": {},
   "outputs": [],
   "source": [
    "for class_name in classes:\n",
    "    class_path = os.path.join(dataset_path, \"Testing\", class_name)\n",
    "    for filename in os.listdir(class_path):\n",
    "        img_path = os.path.join(class_path, filename)\n",
    "        img = cv2.imread(img_path, cv2.IMREAD_GRAYSCALE)\n",
    "        img = cv2.resize(img, (224, 224))\n",
    "        img = np.stack((img,)*3, axis=-1)\n",
    "        test_data.append(img)\n",
    "        test_labels.append(classes.index(class_name))"
   ]
  },
  {
   "cell_type": "code",
   "execution_count": 21,
   "metadata": {},
   "outputs": [],
   "source": [
    "test_data = np.array(test_data) / 255.0\n",
    "test_labels = np.array(test_labels)"
   ]
  },
  {
   "cell_type": "markdown",
   "metadata": {},
   "source": [
    "Classification report"
   ]
  },
  {
   "cell_type": "code",
   "execution_count": 22,
   "metadata": {},
   "outputs": [
    {
     "name": "stdout",
     "output_type": "stream",
     "text": [
      "\u001b[1m13/13\u001b[0m \u001b[32m━━━━━━━━━━━━━━━━━━━━\u001b[0m\u001b[37m\u001b[0m \u001b[1m33s\u001b[0m 2s/step\n",
      "Classification report:\n",
      "                  precision    recall  f1-score   support\n",
      "\n",
      "    glioma_tumor       0.29      0.10      0.15       100\n",
      "meningioma_tumor       0.35      0.94      0.51       115\n",
      "        no_tumor       0.00      0.00      0.00       105\n",
      " pituitary_tumor       0.32      0.22      0.26        74\n",
      "\n",
      "        accuracy                           0.34       394\n",
      "       macro avg       0.24      0.31      0.23       394\n",
      "    weighted avg       0.24      0.34      0.23       394\n",
      "\n"
     ]
    },
    {
     "name": "stderr",
     "output_type": "stream",
     "text": [
      "/home/teki/.local/lib/python3.10/site-packages/sklearn/metrics/_classification.py:1471: UndefinedMetricWarning: Precision and F-score are ill-defined and being set to 0.0 in labels with no predicted samples. Use `zero_division` parameter to control this behavior.\n",
      "  _warn_prf(average, modifier, msg_start, len(result))\n",
      "/home/teki/.local/lib/python3.10/site-packages/sklearn/metrics/_classification.py:1471: UndefinedMetricWarning: Precision and F-score are ill-defined and being set to 0.0 in labels with no predicted samples. Use `zero_division` parameter to control this behavior.\n",
      "  _warn_prf(average, modifier, msg_start, len(result))\n",
      "/home/teki/.local/lib/python3.10/site-packages/sklearn/metrics/_classification.py:1471: UndefinedMetricWarning: Precision and F-score are ill-defined and being set to 0.0 in labels with no predicted samples. Use `zero_division` parameter to control this behavior.\n",
      "  _warn_prf(average, modifier, msg_start, len(result))\n"
     ]
    }
   ],
   "source": [
    "predictions = model.predict(test_data)\n",
    "predicted_classes = np.argmax(predictions, axis=1)\n",
    "report = classification_report(test_labels, predicted_classes, target_names=classes)\n",
    "print(\"Classification report:\")\n",
    "print(report)"
   ]
  },
  {
   "cell_type": "markdown",
   "metadata": {},
   "source": [
    "Preciznost je vrlo niska za sve klase, što znači da model često daje pogrešne pozitivne predikcije.\n",
    "\n",
    "Odziv je umeren za meningioma tumore, ali vrlo nizak za glioma tumore, slike bez tumora, i pituitary tumore, što znači da model propušta veliki broj stvarnih slučajeva ovih tumora.\n",
    "\n",
    "F1-score vrednosti pokazuju da model ima veoma slabe performanse za sve klase, sa nešto boljim performansama za meningioma tumore, ali i dalje nedovoljnim.\n",
    "\n",
    "Ukupna tačnost modela je 34%, što je vrlo nisko, i postoji prostor za značajno poboljšanje u detekciji svih vrsta tumora."
   ]
  },
  {
   "cell_type": "markdown",
   "metadata": {},
   "source": [
    "Čuvanje rezultata\n"
   ]
  },
  {
   "cell_type": "code",
   "execution_count": 23,
   "metadata": {},
   "outputs": [
    {
     "name": "stderr",
     "output_type": "stream",
     "text": [
      "2024-06-18 12:06:07.753833: W external/local_tsl/tsl/framework/cpu_allocator_impl.cc:83] Allocation of 1382449152 exceeds 10% of free system memory.\n"
     ]
    }
   ],
   "source": [
    "train_loss, train_accuracy = model.evaluate(X_train, y_train, verbose=0)\n"
   ]
  },
  {
   "cell_type": "code",
   "execution_count": 24,
   "metadata": {},
   "outputs": [],
   "source": [
    "val_loss, val_accuracy = model.evaluate(X_val, y_val, verbose=0)\n"
   ]
  },
  {
   "cell_type": "code",
   "execution_count": 25,
   "metadata": {},
   "outputs": [],
   "source": [
    "test_loss, test_accuracy = model.evaluate(test_data, test_labels, verbose=0)"
   ]
  },
  {
   "cell_type": "code",
   "execution_count": 26,
   "metadata": {},
   "outputs": [],
   "source": [
    "results = {\n",
    "    \"Model\": [\"ResNet101\"],\n",
    "    \"Train Loss\": [train_loss],\n",
    "    \"Train Accuracy\": [train_accuracy],\n",
    "    \"Validation Loss\": [val_loss],\n",
    "    \"Validation Accuracy\": [val_accuracy],\n",
    "    \"Test Loss\": [test_loss],\n",
    "    \"Test Accuracy\": [test_accuracy]\n",
    "}"
   ]
  },
  {
   "cell_type": "code",
   "execution_count": 27,
   "metadata": {},
   "outputs": [
    {
     "name": "stdout",
     "output_type": "stream",
     "text": [
      "       Model  Train Loss  Train Accuracy  Validation Loss  \\\n",
      "0  ResNet101    1.196028        0.434233         1.187894   \n",
      "\n",
      "   Validation Accuracy  Test Loss  Test Accuracy  \n",
      "0             0.426829   1.819371       0.340102  \n"
     ]
    }
   ],
   "source": [
    "results_df = pd.DataFrame(results)\n",
    "results_df.to_csv(\"model_results_resnet101.csv\", index=False)\n",
    "print(results_df)"
   ]
  },
  {
   "cell_type": "markdown",
   "metadata": {},
   "source": [
    "Graficki prikaz rezultata"
   ]
  },
  {
   "cell_type": "code",
   "execution_count": 29,
   "metadata": {},
   "outputs": [],
   "source": [
    "history = {\n",
    "    'accuracy': [0.2961, 0.2780, 0.2968, 0.2916, 0.3325, 0.3663, 0.3974, 0.3732, 0.3737, 0.3949, \n",
    "                 0.4272, 0.4151, 0.4026, 0.4068, 0.3934, 0.3887, 0.4080, 0.4226, 0.4146, 0.4017],\n",
    "    'val_accuracy': [0.2718, 0.2927, 0.3693, 0.3850, 0.3885, 0.4843, 0.4443, 0.3328, 0.3972, 0.4129, \n",
    "                     0.3310, 0.3519, 0.4582, 0.4408, 0.4024, 0.4686, 0.4547, 0.4268, 0.4268, 0.4216],\n",
    "    'loss': [5.3944, 2.1047, 1.6192, 1.4650, 1.3554, 1.2793, 1.2702, 1.2668, 1.2771, 1.2736, \n",
    "             1.2334, 1.2460, 1.2400, 1.2602, 1.2927, 1.2578, 1.2465, 1.2300, 1.2511, 1.2468],\n",
    "    'val_loss': [2.3336, 1.8260, 2.4170, 4.0209, 1.6587, 1.3428, 1.7561, 1.4721, 1.2083, 1.2254, \n",
    "                 11.0322, 1.2550, 1.2212, 1.2057, 5.7910, 1.2611, 1.2225, 1.1879, 1.3011, 1.2188]\n",
    "} # rucno ubaceno jer je krenel pukao posle treniranja\n"
   ]
  },
  {
   "cell_type": "code",
   "execution_count": 31,
   "metadata": {},
   "outputs": [
    {
     "data": {
      "image/png": "[encoded data removed]",
      "text/plain": [
       "<Figure size 1200x400 with 2 Axes>"
      ]
     },
     "metadata": {},
     "output_type": "display_data"
    }
   ],
   "source": [
    "# train history\n",
    "plt.figure(figsize=(12, 4))\n",
    "\n",
    "# Plot training, validation\n",
    "plt.subplot(1, 2, 1)\n",
    "plt.plot(history['accuracy'])\n",
    "plt.plot(history['val_accuracy'])\n",
    "plt.title('Model Accuracy')\n",
    "plt.xlabel('Epoch')\n",
    "plt.ylabel('Accuracy')\n",
    "plt.legend(['Train', 'Validation'], loc='upper left')\n",
    "\n",
    "# Plot training, validation\n",
    "plt.subplot(1, 2, 2)\n",
    "plt.plot(history['loss'])\n",
    "plt.plot(history['val_loss'])\n",
    "plt.title('Model Loss')\n",
    "plt.xlabel('Epoch')\n",
    "plt.ylabel('Loss')\n",
    "plt.legend(['Train', 'Validation'], loc='upper left')\n",
    "\n",
    "plt.tight_layout()\n",
    "plt.show()"
   ]
  },
  {
   "cell_type": "markdown",
   "metadata": {},
   "source": [
    "**Accuracy**\n",
    "\n",
    "Tacnost na trening skupu raste do oko 0.45, što pokazuje da model uči na trening podacima. Tacnost na validacionom skupu osciluje između 0.3 i 0.45, ali pokazuje trend ka boljem. Ove oscilacije ukazuju na nestabilnu generalizaciju, što može biti rezultat preprilagodjavanja\n",
    "\n",
    "\n",
    "**Loss**\n",
    "\n",
    "Greska na trening setu opada ispod 2, što pokazuje da model smanjuje grešku na trening podacima. Greska na validacionom skupu osciluje, sa vrednostima koje se kreću između 1 i 10. Ova varijabilnost u validacionoj grešci ukazuje na to da model ima poteškoća u učenju stabilnih karakteristika iz validacionih podataka. Takve oscilacije mogu biti znak preprilagodjavanja, gde model dobro radi na trening podacima, ali ne uspeva da generalizuje na validacioni skup."
   ]
  }
 ],
 "metadata": {
  "kernelspec": {
   "display_name": "Python 3",
   "language": "python",
   "name": "python3"
  },
  "language_info": {
   "codemirror_mode": {
    "name": "ipython",
    "version": 3
   },
   "file_extension": ".py",
   "mimetype": "text/x-python",
   "name": "python",
   "nbconvert_exporter": "python",
   "pygments_lexer": "ipython3",
   "version": "3.10.12"
  }
 },
 "nbformat": 4,
 "nbformat_minor": 2
}
