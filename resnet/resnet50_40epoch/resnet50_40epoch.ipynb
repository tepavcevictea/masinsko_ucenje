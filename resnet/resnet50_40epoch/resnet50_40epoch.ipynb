{
 "cells": [
  {
   "cell_type": "code",
   "execution_count": null,
   "metadata": {},
   "outputs": [],
   "source": []
  },
  {
   "cell_type": "markdown",
   "metadata": {},
   "source": [
    "# Resnet 50, 40 epoha"
   ]
  },
  {
   "cell_type": "code",
   "execution_count": 2,
   "metadata": {},
   "outputs": [
    {
     "name": "stderr",
     "output_type": "stream",
     "text": [
      "2024-06-19 10:28:57.275673: I external/local_tsl/tsl/cuda/cudart_stub.cc:32] Could not find cuda drivers on your machine, GPU will not be used.\n",
      "2024-06-19 10:28:57.374309: I external/local_tsl/tsl/cuda/cudart_stub.cc:32] Could not find cuda drivers on your machine, GPU will not be used.\n",
      "2024-06-19 10:28:57.760322: I tensorflow/core/platform/cpu_feature_guard.cc:210] This TensorFlow binary is optimized to use available CPU instructions in performance-critical operations.\n",
      "To enable the following instructions: AVX2 FMA, in other operations, rebuild TensorFlow with the appropriate compiler flags.\n",
      "2024-06-19 10:28:58.758700: W tensorflow/compiler/tf2tensorrt/utils/py_utils.cc:38] TF-TRT Warning: Could not find TensorRT\n"
     ]
    }
   ],
   "source": [
    "import os\n",
    "import cv2\n",
    "import numpy as np\n",
    "import tensorflow as tf\n",
    "from tensorflow.keras.models import Model\n",
    "from tensorflow.keras.layers import Input, Lambda, GlobalAveragePooling2D, Dense, BatchNormalization, Dropout\n",
    "from tensorflow.keras.applications import ResNet50\n",
    "from tensorflow.keras.preprocessing.image import ImageDataGenerator\n",
    "from sklearn.model_selection import train_test_split\n",
    "from sklearn.metrics import classification_report\n",
    "import pandas as pd\n",
    "import matplotlib.pyplot as plt\n",
    "from tensorflow.keras.callbacks import ModelCheckpoint"
   ]
  },
  {
   "cell_type": "markdown",
   "metadata": {},
   "source": [
    "Lokacija dataset-a"
   ]
  },
  {
   "cell_type": "code",
   "execution_count": 3,
   "metadata": {},
   "outputs": [],
   "source": [
    "dataset_path = \"../../data_set\""
   ]
  },
  {
   "cell_type": "code",
   "execution_count": 4,
   "metadata": {},
   "outputs": [],
   "source": [
    "classes = [\"glioma_tumor\", \"meningioma_tumor\", \"no_tumor\", \"pituitary_tumor\"]\n"
   ]
  },
  {
   "cell_type": "markdown",
   "metadata": {},
   "source": [
    "Inicijalizacija lista za cuvanje podataka\n"
   ]
  },
  {
   "cell_type": "code",
   "execution_count": 5,
   "metadata": {},
   "outputs": [],
   "source": [
    "data = []\n",
    "labels = []"
   ]
  },
  {
   "cell_type": "markdown",
   "metadata": {},
   "source": [
    "Ucitavanje slika kroz klase\n"
   ]
  },
  {
   "cell_type": "code",
   "execution_count": 6,
   "metadata": {},
   "outputs": [],
   "source": [
    "for class_name in classes:\n",
    "    class_path = os.path.join(dataset_path, \"Training\", class_name)\n",
    "    for filename in os.listdir(class_path):\n",
    "        img_path = os.path.join(class_path, filename)\n",
    "        img = cv2.imread(img_path, cv2.IMREAD_GRAYSCALE)  # Učitavanje slike u crno-belom formatu\n",
    "        img = cv2.resize(img, (224, 224))  # Da sve slike budu 224x224px\n",
    "        img = np.stack((img,)*3, axis=-1)  # tri kanala od grayscale slike (resnet-u treba 3 kanala)\n",
    "        data.append(img)\n",
    "        labels.append(classes.index(class_name))"
   ]
  },
  {
   "cell_type": "markdown",
   "metadata": {},
   "source": [
    "Konvertovanje listi u numpy\n"
   ]
  },
  {
   "cell_type": "code",
   "execution_count": 7,
   "metadata": {},
   "outputs": [],
   "source": [
    "data = np.array(data) / 255.0  # Normalizacija vrednosti piksela\n",
    "labels = np.array(labels)"
   ]
  },
  {
   "cell_type": "code",
   "execution_count": 8,
   "metadata": {},
   "outputs": [],
   "source": [
    "X_train, X_val, y_train, y_val = train_test_split(data, labels, test_size=0.2, random_state=42)\n"
   ]
  },
  {
   "cell_type": "markdown",
   "metadata": {},
   "source": [
    "ImageDataGenerator za data augmentation\n"
   ]
  },
  {
   "cell_type": "code",
   "execution_count": 9,
   "metadata": {},
   "outputs": [],
   "source": [
    "datagen = ImageDataGenerator(\n",
    "    rotation_range=20,\n",
    "    width_shift_range=0.2,\n",
    "    height_shift_range=0.2,\n",
    "    shear_range=0.2,\n",
    "    zoom_range=0.2,\n",
    "    horizontal_flip=True,\n",
    "    fill_mode=\"nearest\"\n",
    ")"
   ]
  },
  {
   "cell_type": "markdown",
   "metadata": {},
   "source": [
    "ResNet-50 model"
   ]
  },
  {
   "cell_type": "code",
   "execution_count": 10,
   "metadata": {},
   "outputs": [],
   "source": [
    "base_model = ResNet50(weights='imagenet', include_top=False, input_shape=(224, 224, 3))\n",
    "for layer in base_model.layers[-6:]:\n",
    "    layer.trainable = True"
   ]
  },
  {
   "cell_type": "markdown",
   "metadata": {},
   "source": [
    "Dodavanje prilagođenih slojeva"
   ]
  },
  {
   "cell_type": "code",
   "execution_count": 11,
   "metadata": {},
   "outputs": [],
   "source": [
    "inputs = Input(shape=(224, 224, 3))\n",
    "x = base_model(inputs, training=False)\n",
    "x = GlobalAveragePooling2D()(x)\n",
    "x = Dense(128, activation='relu')(x)\n",
    "x = Dense(64, activation='relu')(x)\n",
    "outputs = Dense(len(classes), activation='softmax')(x)\n"
   ]
  },
  {
   "cell_type": "code",
   "execution_count": 12,
   "metadata": {},
   "outputs": [],
   "source": [
    "model = Model(inputs=inputs, outputs=outputs)\n",
    "model.compile(optimizer='adam', loss='sparse_categorical_crossentropy', metrics=['accuracy'])"
   ]
  },
  {
   "cell_type": "markdown",
   "metadata": {},
   "source": [
    "Cuvanje tezina"
   ]
  },
  {
   "cell_type": "code",
   "execution_count": 13,
   "metadata": {},
   "outputs": [],
   "source": [
    "\n",
    "checkpoint_path = \"model.weights.h5\" \n",
    "checkpoint = ModelCheckpoint(checkpoint_path, save_weights_only=True, save_best_only=True, monitor='val_loss', mode='min')\n"
   ]
  },
  {
   "cell_type": "markdown",
   "metadata": {},
   "source": [
    "Treniranje modela"
   ]
  },
  {
   "cell_type": "code",
   "execution_count": 13,
   "metadata": {},
   "outputs": [
    {
     "name": "stdout",
     "output_type": "stream",
     "text": [
      "Epoch 1/40\n"
     ]
    },
    {
     "name": "stderr",
     "output_type": "stream",
     "text": [
      "/home/teki/.local/lib/python3.10/site-packages/keras/src/trainers/data_adapters/py_dataset_adapter.py:121: UserWarning: Your `PyDataset` class should call `super().__init__(**kwargs)` in its constructor. `**kwargs` can include `workers`, `use_multiprocessing`, `max_queue_size`. Do not pass these arguments to `fit()`, as they will be ignored.\n",
      "  self._warn_if_super_not_called()\n"
     ]
    },
    {
     "name": "stdout",
     "output_type": "stream",
     "text": [
      "\u001b[1m574/574\u001b[0m \u001b[32m━━━━━━━━━━━━━━━━━━━━\u001b[0m\u001b[37m\u001b[0m \u001b[1m699s\u001b[0m 1s/step - accuracy: 0.3792 - loss: 1.3771 - val_accuracy: 0.2631 - val_loss: 5.1682\n",
      "Epoch 2/40\n",
      "\u001b[1m574/574\u001b[0m \u001b[32m━━━━━━━━━━━━━━━━━━━━\u001b[0m\u001b[37m\u001b[0m \u001b[1m686s\u001b[0m 1s/step - accuracy: 0.4260 - loss: 1.2537 - val_accuracy: 0.2787 - val_loss: 2.4815\n",
      "Epoch 3/40\n",
      "\u001b[1m574/574\u001b[0m \u001b[32m━━━━━━━━━━━━━━━━━━━━\u001b[0m\u001b[37m\u001b[0m \u001b[1m690s\u001b[0m 1s/step - accuracy: 0.4594 - loss: 1.1642 - val_accuracy: 0.1289 - val_loss: 4.1208\n",
      "Epoch 4/40\n",
      "\u001b[1m574/574\u001b[0m \u001b[32m━━━━━━━━━━━━━━━━━━━━\u001b[0m\u001b[37m\u001b[0m \u001b[1m692s\u001b[0m 1s/step - accuracy: 0.4789 - loss: 1.1514 - val_accuracy: 0.3554 - val_loss: 2.3933\n",
      "Epoch 5/40\n",
      "\u001b[1m574/574\u001b[0m \u001b[32m━━━━━━━━━━━━━━━━━━━━\u001b[0m\u001b[37m\u001b[0m \u001b[1m692s\u001b[0m 1s/step - accuracy: 0.5069 - loss: 1.1105 - val_accuracy: 0.3728 - val_loss: 2.7071\n",
      "Epoch 6/40\n",
      "\u001b[1m574/574\u001b[0m \u001b[32m━━━━━━━━━━━━━━━━━━━━\u001b[0m\u001b[37m\u001b[0m \u001b[1m695s\u001b[0m 1s/step - accuracy: 0.5628 - loss: 1.0316 - val_accuracy: 0.6028 - val_loss: 1.1277\n",
      "Epoch 7/40\n",
      "\u001b[1m574/574\u001b[0m \u001b[32m━━━━━━━━━━━━━━━━━━━━\u001b[0m\u001b[37m\u001b[0m \u001b[1m698s\u001b[0m 1s/step - accuracy: 0.5705 - loss: 0.9836 - val_accuracy: 0.5366 - val_loss: 1.1019\n",
      "Epoch 8/40\n",
      "\u001b[1m574/574\u001b[0m \u001b[32m━━━━━━━━━━━━━━━━━━━━\u001b[0m\u001b[37m\u001b[0m \u001b[1m699s\u001b[0m 1s/step - accuracy: 0.6113 - loss: 0.9373 - val_accuracy: 0.3293 - val_loss: 8.9155\n",
      "Epoch 9/40\n",
      "\u001b[1m574/574\u001b[0m \u001b[32m━━━━━━━━━━━━━━━━━━━━\u001b[0m\u001b[37m\u001b[0m \u001b[1m701s\u001b[0m 1s/step - accuracy: 0.6227 - loss: 0.9074 - val_accuracy: 0.3275 - val_loss: 3.1808\n",
      "Epoch 10/40\n",
      "\u001b[1m574/574\u001b[0m \u001b[32m━━━━━━━━━━━━━━━━━━━━\u001b[0m\u001b[37m\u001b[0m \u001b[1m701s\u001b[0m 1s/step - accuracy: 0.6552 - loss: 0.8456 - val_accuracy: 0.6220 - val_loss: 1.1462\n",
      "Epoch 11/40\n",
      "\u001b[1m574/574\u001b[0m \u001b[32m━━━━━━━━━━━━━━━━━━━━\u001b[0m\u001b[37m\u001b[0m \u001b[1m702s\u001b[0m 1s/step - accuracy: 0.6611 - loss: 0.7812 - val_accuracy: 0.6289 - val_loss: 0.9329\n",
      "Epoch 12/40\n",
      "\u001b[1m574/574\u001b[0m \u001b[32m━━━━━━━━━━━━━━━━━━━━\u001b[0m\u001b[37m\u001b[0m \u001b[1m705s\u001b[0m 1s/step - accuracy: 0.6930 - loss: 0.7295 - val_accuracy: 0.7213 - val_loss: 0.7170\n",
      "Epoch 13/40\n",
      "\u001b[1m574/574\u001b[0m \u001b[32m━━━━━━━━━━━━━━━━━━━━\u001b[0m\u001b[37m\u001b[0m \u001b[1m703s\u001b[0m 1s/step - accuracy: 0.7076 - loss: 0.7174 - val_accuracy: 0.3937 - val_loss: 5.6878\n",
      "Epoch 14/40\n",
      "\u001b[1m574/574\u001b[0m \u001b[32m━━━━━━━━━━━━━━━━━━━━\u001b[0m\u001b[37m\u001b[0m \u001b[1m704s\u001b[0m 1s/step - accuracy: 0.7108 - loss: 0.7028 - val_accuracy: 0.3972 - val_loss: 1.5540\n",
      "Epoch 15/40\n",
      "\u001b[1m574/574\u001b[0m \u001b[32m━━━━━━━━━━━━━━━━━━━━\u001b[0m\u001b[37m\u001b[0m \u001b[1m706s\u001b[0m 1s/step - accuracy: 0.7540 - loss: 0.6290 - val_accuracy: 0.6951 - val_loss: 0.6564\n",
      "Epoch 16/40\n",
      "\u001b[1m574/574\u001b[0m \u001b[32m━━━━━━━━━━━━━━━━━━━━\u001b[0m\u001b[37m\u001b[0m \u001b[1m705s\u001b[0m 1s/step - accuracy: 0.7666 - loss: 0.5927 - val_accuracy: 0.8101 - val_loss: 0.4559\n",
      "Epoch 17/40\n",
      "\u001b[1m574/574\u001b[0m \u001b[32m━━━━━━━━━━━━━━━━━━━━\u001b[0m\u001b[37m\u001b[0m \u001b[1m705s\u001b[0m 1s/step - accuracy: 0.7913 - loss: 0.5419 - val_accuracy: 0.4512 - val_loss: 2.7628\n",
      "Epoch 18/40\n",
      "\u001b[1m574/574\u001b[0m \u001b[32m━━━━━━━━━━━━━━━━━━━━\u001b[0m\u001b[37m\u001b[0m \u001b[1m704s\u001b[0m 1s/step - accuracy: 0.7588 - loss: 0.5605 - val_accuracy: 0.7683 - val_loss: 0.5173\n",
      "Epoch 19/40\n",
      "\u001b[1m574/574\u001b[0m \u001b[32m━━━━━━━━━━━━━━━━━━━━\u001b[0m\u001b[37m\u001b[0m \u001b[1m704s\u001b[0m 1s/step - accuracy: 0.7897 - loss: 0.5267 - val_accuracy: 0.3310 - val_loss: 2.2967\n",
      "Epoch 20/40\n",
      "\u001b[1m574/574\u001b[0m \u001b[32m━━━━━━━━━━━━━━━━━━━━\u001b[0m\u001b[37m\u001b[0m \u001b[1m706s\u001b[0m 1s/step - accuracy: 0.8181 - loss: 0.4648 - val_accuracy: 0.6045 - val_loss: 0.9208\n",
      "Epoch 21/40\n",
      "\u001b[1m574/574\u001b[0m \u001b[32m━━━━━━━━━━━━━━━━━━━━\u001b[0m\u001b[37m\u001b[0m \u001b[1m708s\u001b[0m 1s/step - accuracy: 0.8246 - loss: 0.4533 - val_accuracy: 0.2369 - val_loss: 4.3806\n",
      "Epoch 22/40\n",
      "\u001b[1m574/574\u001b[0m \u001b[32m━━━━━━━━━━━━━━━━━━━━\u001b[0m\u001b[37m\u001b[0m \u001b[1m711s\u001b[0m 1s/step - accuracy: 0.8419 - loss: 0.4216 - val_accuracy: 0.5714 - val_loss: 0.9485\n",
      "Epoch 23/40\n",
      "\u001b[1m574/574\u001b[0m \u001b[32m━━━━━━━━━━━━━━━━━━━━\u001b[0m\u001b[37m\u001b[0m \u001b[1m713s\u001b[0m 1s/step - accuracy: 0.8248 - loss: 0.4359 - val_accuracy: 0.4599 - val_loss: 1.5381\n",
      "Epoch 24/40\n",
      "\u001b[1m574/574\u001b[0m \u001b[32m━━━━━━━━━━━━━━━━━━━━\u001b[0m\u001b[37m\u001b[0m \u001b[1m715s\u001b[0m 1s/step - accuracy: 0.8550 - loss: 0.3681 - val_accuracy: 0.4721 - val_loss: 4.0639\n",
      "Epoch 25/40\n",
      "\u001b[1m574/574\u001b[0m \u001b[32m━━━━━━━━━━━━━━━━━━━━\u001b[0m\u001b[37m\u001b[0m \u001b[1m716s\u001b[0m 1s/step - accuracy: 0.8658 - loss: 0.3373 - val_accuracy: 0.8502 - val_loss: 0.4566\n",
      "Epoch 26/40\n",
      "\u001b[1m574/574\u001b[0m \u001b[32m━━━━━━━━━━━━━━━━━━━━\u001b[0m\u001b[37m\u001b[0m \u001b[1m715s\u001b[0m 1s/step - accuracy: 0.8622 - loss: 0.3303 - val_accuracy: 0.3519 - val_loss: 7.1304\n",
      "Epoch 27/40\n",
      "\u001b[1m574/574\u001b[0m \u001b[32m━━━━━━━━━━━━━━━━━━━━\u001b[0m\u001b[37m\u001b[0m \u001b[1m714s\u001b[0m 1s/step - accuracy: 0.8740 - loss: 0.3246 - val_accuracy: 0.8362 - val_loss: 0.4448\n",
      "Epoch 28/40\n",
      "\u001b[1m574/574\u001b[0m \u001b[32m━━━━━━━━━━━━━━━━━━━━\u001b[0m\u001b[37m\u001b[0m \u001b[1m716s\u001b[0m 1s/step - accuracy: 0.8892 - loss: 0.3194 - val_accuracy: 0.8571 - val_loss: 0.3974\n",
      "Epoch 29/40\n",
      "\u001b[1m574/574\u001b[0m \u001b[32m━━━━━━━━━━━━━━━━━━━━\u001b[0m\u001b[37m\u001b[0m \u001b[1m714s\u001b[0m 1s/step - accuracy: 0.8704 - loss: 0.3430 - val_accuracy: 0.6829 - val_loss: 0.9214\n",
      "Epoch 30/40\n",
      "\u001b[1m574/574\u001b[0m \u001b[32m━━━━━━━━━━━━━━━━━━━━\u001b[0m\u001b[37m\u001b[0m \u001b[1m712s\u001b[0m 1s/step - accuracy: 0.8825 - loss: 0.3076 - val_accuracy: 0.7892 - val_loss: 0.6010\n",
      "Epoch 31/40\n",
      "\u001b[1m574/574\u001b[0m \u001b[32m━━━━━━━━━━━━━━━━━━━━\u001b[0m\u001b[37m\u001b[0m \u001b[1m713s\u001b[0m 1s/step - accuracy: 0.8900 - loss: 0.2828 - val_accuracy: 0.8519 - val_loss: 0.5507\n",
      "Epoch 32/40\n",
      "\u001b[1m574/574\u001b[0m \u001b[32m━━━━━━━━━━━━━━━━━━━━\u001b[0m\u001b[37m\u001b[0m \u001b[1m713s\u001b[0m 1s/step - accuracy: 0.9013 - loss: 0.2719 - val_accuracy: 0.9007 - val_loss: 0.2912\n",
      "Epoch 33/40\n",
      "\u001b[1m574/574\u001b[0m \u001b[32m━━━━━━━━━━━━━━━━━━━━\u001b[0m\u001b[37m\u001b[0m \u001b[1m712s\u001b[0m 1s/step - accuracy: 0.9082 - loss: 0.2622 - val_accuracy: 0.8084 - val_loss: 0.5324\n",
      "Epoch 34/40\n",
      "\u001b[1m574/574\u001b[0m \u001b[32m━━━━━━━━━━━━━━━━━━━━\u001b[0m\u001b[37m\u001b[0m \u001b[1m713s\u001b[0m 1s/step - accuracy: 0.9017 - loss: 0.2458 - val_accuracy: 0.3763 - val_loss: 13.0269\n",
      "Epoch 35/40\n",
      "\u001b[1m574/574\u001b[0m \u001b[32m━━━━━━━━━━━━━━━━━━━━\u001b[0m\u001b[37m\u001b[0m \u001b[1m714s\u001b[0m 1s/step - accuracy: 0.8963 - loss: 0.2564 - val_accuracy: 0.8484 - val_loss: 0.5028\n",
      "Epoch 36/40\n",
      "\u001b[1m574/574\u001b[0m \u001b[32m━━━━━━━━━━━━━━━━━━━━\u001b[0m\u001b[37m\u001b[0m \u001b[1m715s\u001b[0m 1s/step - accuracy: 0.9159 - loss: 0.2239 - val_accuracy: 0.8728 - val_loss: 0.5102\n",
      "Epoch 37/40\n",
      "\u001b[1m574/574\u001b[0m \u001b[32m━━━━━━━━━━━━━━━━━━━━\u001b[0m\u001b[37m\u001b[0m \u001b[1m719s\u001b[0m 1s/step - accuracy: 0.9163 - loss: 0.2106 - val_accuracy: 0.5505 - val_loss: 2.1409\n",
      "Epoch 38/40\n",
      "\u001b[1m574/574\u001b[0m \u001b[32m━━━━━━━━━━━━━━━━━━━━\u001b[0m\u001b[37m\u001b[0m \u001b[1m718s\u001b[0m 1s/step - accuracy: 0.9169 - loss: 0.2267 - val_accuracy: 0.9111 - val_loss: 0.2960\n",
      "Epoch 39/40\n",
      "\u001b[1m574/574\u001b[0m \u001b[32m━━━━━━━━━━━━━━━━━━━━\u001b[0m\u001b[37m\u001b[0m \u001b[1m718s\u001b[0m 1s/step - accuracy: 0.9170 - loss: 0.2355 - val_accuracy: 0.9042 - val_loss: 0.2792\n",
      "Epoch 40/40\n",
      "\u001b[1m574/574\u001b[0m \u001b[32m━━━━━━━━━━━━━━━━━━━━\u001b[0m\u001b[37m\u001b[0m \u001b[1m720s\u001b[0m 1s/step - accuracy: 0.9205 - loss: 0.2023 - val_accuracy: 0.7613 - val_loss: 0.8527\n"
     ]
    }
   ],
   "source": [
    "history = model.fit(datagen.flow(X_train, y_train, batch_size=4), epochs=40, validation_data=(X_val, y_val), callbacks=[checkpoint])\n"
   ]
  },
  {
   "cell_type": "code",
   "execution_count": 14,
   "metadata": {},
   "outputs": [
    {
     "name": "stderr",
     "output_type": "stream",
     "text": [
      "/home/teki/.local/lib/python3.10/site-packages/keras/src/saving/saving_lib.py:415: UserWarning: Skipping variable loading for optimizer 'adam', because it has 2 variables whereas the saved optimizer has 438 variables. \n",
      "  saveable.load_own_variables(weights_store.get(inner_path))\n"
     ]
    }
   ],
   "source": [
    "model.load_weights(checkpoint_path)"
   ]
  },
  {
   "cell_type": "markdown",
   "metadata": {},
   "source": [
    "Evaluacija modela na test skupu\n"
   ]
  },
  {
   "cell_type": "code",
   "execution_count": 15,
   "metadata": {},
   "outputs": [],
   "source": [
    "test_data = []\n",
    "test_labels = []"
   ]
  },
  {
   "cell_type": "code",
   "execution_count": 16,
   "metadata": {},
   "outputs": [],
   "source": [
    "for class_name in classes:\n",
    "    class_path = os.path.join(dataset_path, \"Testing\", class_name)\n",
    "    for filename in os.listdir(class_path):\n",
    "        img_path = os.path.join(class_path, filename)\n",
    "        img = cv2.imread(img_path, cv2.IMREAD_GRAYSCALE)\n",
    "        img = cv2.resize(img, (224, 224))\n",
    "        img = np.stack((img,)*3, axis=-1)\n",
    "        test_data.append(img)\n",
    "        test_labels.append(classes.index(class_name))"
   ]
  },
  {
   "cell_type": "code",
   "execution_count": 17,
   "metadata": {},
   "outputs": [],
   "source": [
    "test_data = np.array(test_data) / 255.0\n",
    "test_labels = np.array(test_labels)"
   ]
  },
  {
   "cell_type": "markdown",
   "metadata": {},
   "source": [
    "Classification report"
   ]
  },
  {
   "cell_type": "code",
   "execution_count": 18,
   "metadata": {},
   "outputs": [
    {
     "name": "stdout",
     "output_type": "stream",
     "text": [
      "\u001b[1m13/13\u001b[0m \u001b[32m━━━━━━━━━━━━━━━━━━━━\u001b[0m\u001b[37m\u001b[0m \u001b[1m20s\u001b[0m 1s/step\n",
      "Classification report:\n",
      "                  precision    recall  f1-score   support\n",
      "\n",
      "    glioma_tumor       0.86      0.19      0.31       100\n",
      "meningioma_tumor       0.78      0.65      0.71       115\n",
      "        no_tumor       0.47      0.99      0.64       105\n",
      " pituitary_tumor       0.87      0.65      0.74        74\n",
      "\n",
      "        accuracy                           0.62       394\n",
      "       macro avg       0.75      0.62      0.60       394\n",
      "    weighted avg       0.74      0.62      0.60       394\n",
      "\n"
     ]
    }
   ],
   "source": [
    "predictions = model.predict(test_data)\n",
    "predicted_classes = np.argmax(predictions, axis=1)\n",
    "report = classification_report(test_labels, predicted_classes, target_names=classes)\n",
    "print(\"Classification report:\")\n",
    "print(report)"
   ]
  },
  {
   "cell_type": "markdown",
   "metadata": {},
   "source": [
    "Preciznost  je visoka za glioma tumore, meningioma tumore, i pituitary tumore, dok je niža za slike bez tumora.\n",
    "\n",
    "Odziv je visok za meningioma tumore, slike bez tumora i pituitary tumore, ali nizak za glioma tumore, što znači da model propušta veliki broj stvarnih slučajeva glioma tumora.\n",
    "\n",
    "F1-score vrednosti pokazuju da model ima solidne performanse za većinu klasa, osim za glioma tumore, gde su potrebna značajna poboljšanja.\n"
   ]
  },
  {
   "cell_type": "markdown",
   "metadata": {},
   "source": [
    "Čuvanje rezultata\n"
   ]
  },
  {
   "cell_type": "code",
   "execution_count": 19,
   "metadata": {},
   "outputs": [
    {
     "name": "stderr",
     "output_type": "stream",
     "text": [
      "2024-06-19 10:29:53.154349: W external/local_tsl/tsl/framework/cpu_allocator_impl.cc:83] Allocation of 1382449152 exceeds 10% of free system memory.\n"
     ]
    }
   ],
   "source": [
    "train_loss, train_accuracy = model.evaluate(X_train, y_train, verbose=0)\n"
   ]
  },
  {
   "cell_type": "code",
   "execution_count": 20,
   "metadata": {},
   "outputs": [],
   "source": [
    "val_loss, val_accuracy = model.evaluate(X_val, y_val, verbose=0)\n"
   ]
  },
  {
   "cell_type": "code",
   "execution_count": 21,
   "metadata": {},
   "outputs": [],
   "source": [
    "test_loss, test_accuracy = model.evaluate(test_data, test_labels, verbose=0)"
   ]
  },
  {
   "cell_type": "code",
   "execution_count": 22,
   "metadata": {},
   "outputs": [],
   "source": [
    "results = {\n",
    "    \"Model\": [\"ResNet50 - Bez dropout\"],\n",
    "    \"Train Loss\": [train_loss],\n",
    "    \"Train Accuracy\": [train_accuracy],\n",
    "    \"Validation Loss\": [val_loss],\n",
    "    \"Validation Accuracy\": [val_accuracy],\n",
    "    \"Test Loss\": [test_loss],\n",
    "    \"Test Accuracy\": [test_accuracy]\n",
    "}"
   ]
  },
  {
   "cell_type": "code",
   "execution_count": 23,
   "metadata": {},
   "outputs": [
    {
     "name": "stdout",
     "output_type": "stream",
     "text": [
      "                    Model  Train Loss  Train Accuracy  Validation Loss  \\\n",
      "0  ResNet50 - Bez dropout     0.19688        0.932056         0.279185   \n",
      "\n",
      "   Validation Accuracy  Test Loss  Test Accuracy  \n",
      "0             0.904181   3.078339       0.624366  \n"
     ]
    }
   ],
   "source": [
    "results_df = pd.DataFrame(results)\n",
    "results_df.to_csv(\"model_results_resnet50_40epoch.csv\", index=False)\n",
    "print(results_df)"
   ]
  },
  {
   "cell_type": "code",
   "execution_count": 26,
   "metadata": {},
   "outputs": [],
   "source": [
    "history = {\n",
    "    'accuracy': [\n",
    "        0.3792, 0.4260, 0.4594, 0.4789, 0.5069, 0.5628, 0.5705, 0.6113, \n",
    "        0.6227, 0.6552, 0.6611, 0.6930, 0.7076, 0.7108, 0.7540, 0.7666, \n",
    "        0.7913, 0.7588, 0.7897, 0.8181, 0.8246, 0.8419, 0.8248, 0.8550, \n",
    "        0.8658, 0.8622, 0.8740, 0.8892, 0.8704, 0.8825, 0.8900, 0.9013, \n",
    "        0.9082, 0.9017, 0.8963, 0.9159, 0.9163, 0.9169, 0.9170, 0.9205\n",
    "    ],\n",
    "    'loss': [\n",
    "        1.3771, 1.2537, 1.1642, 1.1514, 1.1105, 1.0316, 0.9836, 0.9373, \n",
    "        0.9074, 0.8456, 0.7812, 0.7295, 0.7174, 0.7028, 0.6290, 0.5927, \n",
    "        0.5419, 0.5605, 0.5267, 0.4648, 0.4533, 0.4216, 0.4359, 0.3681, \n",
    "        0.3373, 0.3303, 0.3246, 0.3194, 0.3430, 0.3076, 0.2828, 0.2719, \n",
    "        0.2622, 0.2458, 0.2564, 0.2239, 0.2106, 0.2267, 0.2355, 0.2023\n",
    "    ],\n",
    "    'val_accuracy': [\n",
    "        0.2631, 0.2787, 0.1289, 0.3554, 0.3728, 0.6028, 0.5366, 0.3293, \n",
    "        0.3275, 0.6220, 0.6289, 0.7213, 0.3937, 0.3972, 0.6951, 0.8101, \n",
    "        0.4512, 0.7683, 0.3310, 0.6045, 0.2369, 0.5714, 0.4599, 0.4721, \n",
    "        0.8502, 0.3519, 0.8362, 0.8571, 0.6829, 0.7892, 0.8519, 0.9007, \n",
    "        0.8084, 0.3763, 0.8484, 0.8728, 0.5505, 0.9111, 0.9042, 0.7613\n",
    "    ],\n",
    "    'val_loss': [\n",
    "        5.1682, 2.4815, 4.1208, 2.3933, 2.7071, 1.1277, 1.1019, 8.9155, \n",
    "        3.1808, 1.1462, 0.9329, 0.7170, 5.6878, 1.5540, 0.6564, 0.4559, \n",
    "        2.7628, 0.5173, 2.2967, 0.9208, 4.3806, 0.9485, 1.5381, 4.0639, \n",
    "        0.4566, 7.1304, 0.4448, 0.3974, 0.9214, 0.6010, 0.5507, 0.2912, \n",
    "        0.5324, 13.0269, 0.5028, 0.5102, 2.1409, 0.2960, 0.2792, 0.8527\n",
    "    ]\n",
    "}"
   ]
  },
  {
   "cell_type": "markdown",
   "metadata": {},
   "source": [
    "Graficki prikaz rezultata"
   ]
  },
  {
   "cell_type": "code",
   "execution_count": 27,
   "metadata": {},
   "outputs": [
    {
     "data": {
      "image/png": "[encoded data removed]",
      "text/plain": [
       "<Figure size 1200x400 with 2 Axes>"
      ]
     },
     "metadata": {},
     "output_type": "display_data"
    }
   ],
   "source": [
    "# train history\n",
    "plt.figure(figsize=(12, 4))\n",
    "\n",
    "# Plot training, validation\n",
    "plt.subplot(1, 2, 1)\n",
    "plt.plot(history['accuracy'])\n",
    "plt.plot(history['val_accuracy'])\n",
    "plt.title('Model Accuracy')\n",
    "plt.xlabel('Epoch')\n",
    "plt.ylabel('Accuracy')\n",
    "plt.legend(['Train', 'Validation'], loc='upper left')\n",
    "\n",
    "# Plot training, validation\n",
    "plt.subplot(1, 2, 2)\n",
    "plt.plot(history['loss'])\n",
    "plt.plot(history['val_loss'])\n",
    "plt.title('Model Loss')\n",
    "plt.xlabel('Epoch')\n",
    "plt.ylabel('Loss')\n",
    "plt.legend(['Train', 'Validation'], loc='upper left')\n",
    "\n",
    "plt.tight_layout()\n",
    "plt.show()"
   ]
  },
  {
   "cell_type": "markdown",
   "metadata": {},
   "source": [
    "**Accuracy**\n",
    "\n",
    "Tacnost na trening skupu raste do oko 0.9, što pokazuje da model dobro uči na trening podacima. Tacnost na validacionom skupu osciluje između 0.1 i 0.8, ali pokazuje trend ka boljem. Ove oscilacije sugerišu da model nije u stanju da konstantno dobro generalizuje na neviđene podatke, što može biti rezultat preprilagodjavanja\n",
    "\n",
    "\n",
    "**Loss**\n",
    "\n",
    "Greska na trening setu opada ispod 1, što pokazuje da model smanjuje grešku na trening podacima. Greska na validacionom skupu osciluje značajno, sa vrednostima koje se kreću između 0 i 12. Ova velika varijabilnost u validacionoj grešci ukazuje na to da model ima poteškoća u učenju stabilnih karakteristika iz validacionih podataka. Takve oscilacije mogu biti znak preprilagodjavanja, gde model dobro radi na trening podacima ali ne uspeva da generalizuje na validacioni skup."
   ]
  }
 ],
 "metadata": {
  "kernelspec": {
   "display_name": "Python 3",
   "language": "python",
   "name": "python3"
  },
  "language_info": {
   "codemirror_mode": {
    "name": "ipython",
    "version": 3
   },
   "file_extension": ".py",
   "mimetype": "text/x-python",
   "name": "python",
   "nbconvert_exporter": "python",
   "pygments_lexer": "ipython3",
   "version": "3.10.12"
  }
 },
 "nbformat": 4,
 "nbformat_minor": 2
}
