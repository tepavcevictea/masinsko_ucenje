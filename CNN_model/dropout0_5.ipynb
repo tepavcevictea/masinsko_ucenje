{
 "cells": [
  {
   "cell_type": "markdown",
   "metadata": {},
   "source": [
    "# Dropout 0.5"
   ]
  },
  {
   "cell_type": "code",
   "execution_count": 87,
   "metadata": {},
   "outputs": [],
   "source": [
    "import os\n",
    "import cv2\n",
    "import numpy as np\n",
    "os.environ['TF_CPP_MIN_LOG_LEVEL'] = '2'\n",
    "import tensorflow as tf\n",
    "from sklearn.model_selection import train_test_split\n",
    "from tensorflow.keras.models import Sequential\n",
    "from tensorflow.keras.layers import Conv2D, MaxPooling2D, Flatten, Dense\n",
    "from tensorflow.keras.preprocessing.image import ImageDataGenerator\n",
    "from keras.optimizers import Adam\n",
    "import matplotlib.pyplot as plt\n",
    "import tensorflow as tf\n",
    "import pandas as pd\n",
    "\n"
   ]
  },
  {
   "cell_type": "markdown",
   "metadata": {},
   "source": [
    "Lokacija dataset-a"
   ]
  },
  {
   "cell_type": "code",
   "execution_count": 88,
   "metadata": {},
   "outputs": [],
   "source": [
    "dataset_path = \"../data_set\""
   ]
  },
  {
   "cell_type": "code",
   "execution_count": 89,
   "metadata": {},
   "outputs": [],
   "source": [
    "classes = [\"glioma_tumor\", \"meningioma_tumor\", \"no_tumor\", \"pituitary_tumor\"]\n"
   ]
  },
  {
   "cell_type": "markdown",
   "metadata": {},
   "source": [
    "Inicijalizacija lista za cuvanje podataka\n"
   ]
  },
  {
   "cell_type": "code",
   "execution_count": 90,
   "metadata": {},
   "outputs": [],
   "source": [
    "data = []\n",
    "labels = []"
   ]
  },
  {
   "cell_type": "markdown",
   "metadata": {},
   "source": [
    "Ucitavanje slika kroz klase\n"
   ]
  },
  {
   "cell_type": "code",
   "execution_count": 91,
   "metadata": {},
   "outputs": [],
   "source": [
    "for class_name in classes:\n",
    "    class_path = os.path.join(dataset_path, \"Training\", class_name)\n",
    "    for filename in os.listdir(class_path):\n",
    "        img_path = os.path.join(class_path, filename)\n",
    "        img = cv2.imread(img_path, cv2.IMREAD_GRAYSCALE)  # Učitavanje slike u crno-belom formatu\n",
    "        img = cv2.resize(img, (224, 224))  # Da sve slike budu 224x224px\n",
    "        data.append(img)\n",
    "        labels.append(classes.index(class_name))\n"
   ]
  },
  {
   "cell_type": "markdown",
   "metadata": {},
   "source": [
    "Konvertovanje listi u numpy\n"
   ]
  },
  {
   "cell_type": "code",
   "execution_count": 92,
   "metadata": {},
   "outputs": [],
   "source": [
    "data = np.array(data) / 255.0  # Normalizacija vrednosti piksela\n",
    "data = np.expand_dims(data, axis=-1)\n",
    "labels = np.array(labels)"
   ]
  },
  {
   "cell_type": "code",
   "execution_count": 93,
   "metadata": {},
   "outputs": [],
   "source": [
    "X_train, X_val, y_train, y_val = train_test_split(data, labels, test_size=0.2, random_state=42)\n"
   ]
  },
  {
   "cell_type": "markdown",
   "metadata": {},
   "source": [
    "ImageDataGenerator za data augmentation\n"
   ]
  },
  {
   "cell_type": "code",
   "execution_count": 94,
   "metadata": {},
   "outputs": [],
   "source": [
    "datagen = ImageDataGenerator(\n",
    "    rotation_range=20,\n",
    "    width_shift_range=0.2,\n",
    "    height_shift_range=0.2,\n",
    "    shear_range=0.2,\n",
    "    zoom_range=0.2,\n",
    "    horizontal_flip=True,\n",
    "    fill_mode=\"nearest\"\n",
    ")"
   ]
  },
  {
   "cell_type": "markdown",
   "metadata": {},
   "source": [
    "CNN model sa Dropout slojem\n"
   ]
  },
  {
   "cell_type": "code",
   "execution_count": 95,
   "metadata": {},
   "outputs": [],
   "source": [
    "from tensorflow.keras.layers import Dropout\n",
    "\n",
    "model = Sequential()\n",
    "model.add(Conv2D(32, (3, 3), activation='relu', input_shape=(224, 224, 1)))\n",
    "model.add(MaxPooling2D((2, 2)))\n",
    "model.add(Conv2D(64, (3, 3), activation='relu'))\n",
    "model.add(MaxPooling2D((2, 2)))\n",
    "model.add(Conv2D(128, (3, 3), activation='relu'))\n",
    "model.add(MaxPooling2D((2, 2)))\n",
    "model.add(Flatten())\n",
    "model.add(Dense(128, activation='relu'))\n",
    "model.add(Dropout(0.5))  # Dodajemo Dropout sloj sa dropout rate-om 0.5\n",
    "model.add(Dense(len(classes), activation='softmax'))"
   ]
  },
  {
   "cell_type": "code",
   "execution_count": 96,
   "metadata": {},
   "outputs": [],
   "source": [
    "adam_optimizer = Adam(learning_rate=0.005)\n",
    "\n",
    "model.compile(optimizer=adam_optimizer, loss='sparse_categorical_crossentropy', metrics=['accuracy'])\n"
   ]
  },
  {
   "cell_type": "code",
   "execution_count": 97,
   "metadata": {},
   "outputs": [
    {
     "name": "stdout",
     "output_type": "stream",
     "text": [
      "Epoch 1/40\n",
      "72/72 [==============================] - 86s 1s/step - loss: 1.6719 - accuracy: 0.2936 - val_loss: 1.3570 - val_accuracy: 0.2718\n",
      "Epoch 2/40\n",
      "72/72 [==============================] - 89s 1s/step - loss: 1.3545 - accuracy: 0.2896 - val_loss: 1.3410 - val_accuracy: 0.2718\n",
      "Epoch 3/40\n",
      "72/72 [==============================] - 87s 1s/step - loss: 1.3535 - accuracy: 0.2840 - val_loss: 1.3389 - val_accuracy: 0.2718\n",
      "Epoch 4/40\n",
      "72/72 [==============================] - 86s 1s/step - loss: 1.3522 - accuracy: 0.2766 - val_loss: 1.3382 - val_accuracy: 0.2718\n",
      "Epoch 5/40\n",
      "72/72 [==============================] - 87s 1s/step - loss: 1.3536 - accuracy: 0.2713 - val_loss: 1.3397 - val_accuracy: 0.2718\n",
      "Epoch 6/40\n",
      "72/72 [==============================] - 89s 1s/step - loss: 1.3531 - accuracy: 0.2792 - val_loss: 1.3373 - val_accuracy: 0.3118\n",
      "Epoch 7/40\n",
      "72/72 [==============================] - 86s 1s/step - loss: 1.3531 - accuracy: 0.2835 - val_loss: 1.3387 - val_accuracy: 0.2718\n",
      "Epoch 8/40\n",
      "72/72 [==============================] - 85s 1s/step - loss: 1.3512 - accuracy: 0.2879 - val_loss: 1.3390 - val_accuracy: 0.2718\n",
      "Epoch 9/40\n",
      "72/72 [==============================] - 85s 1s/step - loss: 1.3526 - accuracy: 0.2840 - val_loss: 1.3392 - val_accuracy: 0.2718\n",
      "Epoch 10/40\n",
      "72/72 [==============================] - 84s 1s/step - loss: 1.3516 - accuracy: 0.2831 - val_loss: 1.3381 - val_accuracy: 0.2718\n",
      "Epoch 11/40\n",
      "72/72 [==============================] - 85s 1s/step - loss: 1.3511 - accuracy: 0.2949 - val_loss: 1.3379 - val_accuracy: 0.2944\n",
      "Epoch 12/40\n",
      "72/72 [==============================] - 85s 1s/step - loss: 1.3525 - accuracy: 0.2779 - val_loss: 1.3392 - val_accuracy: 0.2718\n",
      "Epoch 13/40\n",
      "72/72 [==============================] - 83s 1s/step - loss: 1.3513 - accuracy: 0.2901 - val_loss: 1.3386 - val_accuracy: 0.2718\n",
      "Epoch 14/40\n",
      "72/72 [==============================] - 87s 1s/step - loss: 1.3516 - accuracy: 0.2753 - val_loss: 1.3373 - val_accuracy: 0.2944\n",
      "Epoch 15/40\n",
      "72/72 [==============================] - 88s 1s/step - loss: 1.3514 - accuracy: 0.2818 - val_loss: 1.3374 - val_accuracy: 0.2944\n",
      "Epoch 16/40\n",
      "72/72 [==============================] - 90s 1s/step - loss: 1.3508 - accuracy: 0.2792 - val_loss: 1.3383 - val_accuracy: 0.2718\n",
      "Epoch 17/40\n",
      "72/72 [==============================] - 93s 1s/step - loss: 1.3510 - accuracy: 0.2879 - val_loss: 1.3392 - val_accuracy: 0.2718\n",
      "Epoch 18/40\n",
      "72/72 [==============================] - 90s 1s/step - loss: 1.3514 - accuracy: 0.2831 - val_loss: 1.3378 - val_accuracy: 0.2718\n",
      "Epoch 19/40\n",
      "72/72 [==============================] - 87s 1s/step - loss: 1.3520 - accuracy: 0.2857 - val_loss: 1.3380 - val_accuracy: 0.2718\n",
      "Epoch 20/40\n",
      "72/72 [==============================] - 89s 1s/step - loss: 1.3523 - accuracy: 0.2609 - val_loss: 1.3383 - val_accuracy: 0.2718\n",
      "Epoch 21/40\n",
      "72/72 [==============================] - 89s 1s/step - loss: 1.3517 - accuracy: 0.2922 - val_loss: 1.3384 - val_accuracy: 0.2718\n",
      "Epoch 22/40\n",
      "72/72 [==============================] - 89s 1s/step - loss: 1.3519 - accuracy: 0.2861 - val_loss: 1.3386 - val_accuracy: 0.2718\n",
      "Epoch 23/40\n",
      "72/72 [==============================] - 90s 1s/step - loss: 1.3521 - accuracy: 0.2844 - val_loss: 1.3386 - val_accuracy: 0.2718\n",
      "Epoch 24/40\n",
      "72/72 [==============================] - 89s 1s/step - loss: 1.3513 - accuracy: 0.2922 - val_loss: 1.3382 - val_accuracy: 0.2718\n",
      "Epoch 25/40\n",
      "72/72 [==============================] - 86s 1s/step - loss: 1.3514 - accuracy: 0.2787 - val_loss: 1.3387 - val_accuracy: 0.2718\n",
      "Epoch 26/40\n",
      "72/72 [==============================] - 90s 1s/step - loss: 1.3512 - accuracy: 0.2892 - val_loss: 1.3378 - val_accuracy: 0.2718\n",
      "Epoch 27/40\n",
      "72/72 [==============================] - 91s 1s/step - loss: 1.3514 - accuracy: 0.2726 - val_loss: 1.3378 - val_accuracy: 0.2718\n",
      "Epoch 28/40\n",
      "72/72 [==============================] - 135s 2s/step - loss: 1.3515 - accuracy: 0.2753 - val_loss: 1.3381 - val_accuracy: 0.2718\n",
      "Epoch 29/40\n",
      "72/72 [==============================] - 188s 3s/step - loss: 1.3516 - accuracy: 0.2835 - val_loss: 1.3388 - val_accuracy: 0.2718\n",
      "Epoch 30/40\n",
      "72/72 [==============================] - 178s 2s/step - loss: 1.3513 - accuracy: 0.2801 - val_loss: 1.3385 - val_accuracy: 0.2718\n",
      "Epoch 31/40\n",
      "72/72 [==============================] - 175s 2s/step - loss: 1.3519 - accuracy: 0.2922 - val_loss: 1.3380 - val_accuracy: 0.2718\n",
      "Epoch 32/40\n",
      "72/72 [==============================] - 174s 2s/step - loss: 1.3514 - accuracy: 0.2922 - val_loss: 1.3379 - val_accuracy: 0.2718\n",
      "Epoch 33/40\n",
      "72/72 [==============================] - 87s 1s/step - loss: 1.3512 - accuracy: 0.2922 - val_loss: 1.3380 - val_accuracy: 0.2718\n",
      "Epoch 34/40\n",
      "72/72 [==============================] - 87s 1s/step - loss: 1.3511 - accuracy: 0.2861 - val_loss: 1.3377 - val_accuracy: 0.2944\n",
      "Epoch 35/40\n",
      "72/72 [==============================] - 87s 1s/step - loss: 1.3513 - accuracy: 0.2879 - val_loss: 1.3376 - val_accuracy: 0.2718\n",
      "Epoch 36/40\n",
      "72/72 [==============================] - 88s 1s/step - loss: 1.3513 - accuracy: 0.2922 - val_loss: 1.3375 - val_accuracy: 0.2718\n",
      "Epoch 37/40\n",
      "72/72 [==============================] - 88s 1s/step - loss: 1.3514 - accuracy: 0.2879 - val_loss: 1.3378 - val_accuracy: 0.2718\n",
      "Epoch 38/40\n",
      "72/72 [==============================] - 88s 1s/step - loss: 1.3515 - accuracy: 0.2766 - val_loss: 1.3379 - val_accuracy: 0.2718\n",
      "Epoch 39/40\n",
      "72/72 [==============================] - 88s 1s/step - loss: 1.3512 - accuracy: 0.2922 - val_loss: 1.3381 - val_accuracy: 0.2718\n",
      "Epoch 40/40\n",
      "72/72 [==============================] - 88s 1s/step - loss: 1.3513 - accuracy: 0.2861 - val_loss: 1.3381 - val_accuracy: 0.2718\n"
     ]
    }
   ],
   "source": [
    "history = model.fit(datagen.flow(X_train, y_train, batch_size=32), epochs=100, validation_data=(X_val, y_val))\n"
   ]
  },
  {
   "cell_type": "markdown",
   "metadata": {},
   "source": [
    "Evaluacija modela na test skupu"
   ]
  },
  {
   "cell_type": "code",
   "execution_count": 98,
   "metadata": {},
   "outputs": [],
   "source": [
    "test_data = []\n",
    "test_labels = []"
   ]
  },
  {
   "cell_type": "code",
   "execution_count": 99,
   "metadata": {},
   "outputs": [],
   "source": [
    "for class_name in classes:\n",
    "    class_path = os.path.join(dataset_path, \"Testing\", class_name)\n",
    "    for filename in os.listdir(class_path):\n",
    "        img_path = os.path.join(class_path, filename)\n",
    "        img = cv2.imread(img_path, cv2.IMREAD_GRAYSCALE)  # Učitavanje slike u crno-belom formatu\n",
    "        img = cv2.resize(img, (224, 224))\n",
    "        test_data.append(img)\n",
    "        test_labels.append(classes.index(class_name))\n"
   ]
  },
  {
   "cell_type": "code",
   "execution_count": 100,
   "metadata": {},
   "outputs": [],
   "source": [
    "test_data = np.array(test_data) / 255.0\n",
    "test_data = np.expand_dims(test_data, axis=-1)\n",
    "test_labels = np.array(test_labels)\n",
    "\n"
   ]
  },
  {
   "cell_type": "markdown",
   "metadata": {},
   "source": [
    "Kreiranje tabele sa rezultatima\n"
   ]
  },
  {
   "cell_type": "code",
   "execution_count": 103,
   "metadata": {},
   "outputs": [],
   "source": [
    "train_loss, train_accuracy = model.evaluate(X_train, y_train, verbose=0)\n",
    "val_loss, val_accuracy = model.evaluate(X_val, y_val, verbose=0)\n",
    "test_loss, test_accuracy = model.evaluate(test_data, test_labels, verbose=0)\n"
   ]
  },
  {
   "cell_type": "code",
   "execution_count": 104,
   "metadata": {},
   "outputs": [],
   "source": [
    "results = {\n",
    "    \"Model\": [\"CNN - Dropout(0.5)\"],\n",
    "    \"Train Loss\": [train_loss],\n",
    "    \"Train Accuracy\": [train_accuracy],\n",
    "    \"Validation Loss\": [val_loss],\n",
    "    \"Validation Accuracy\": [val_accuracy],\n",
    "    \"Test Loss\": [test_loss],\n",
    "    \"Test Accuracy\": [test_accuracy]\n",
    "}"
   ]
  },
  {
   "cell_type": "code",
   "execution_count": 105,
   "metadata": {},
   "outputs": [],
   "source": [
    "results_df = pd.DataFrame(results)\n",
    "\n",
    "# Čuvanje tabele rezultata kao CSV fajl\n",
    "results_df.to_csv(\"model_results_dropout0_5.csv\", index=False)"
   ]
  },
  {
   "cell_type": "code",
   "execution_count": 106,
   "metadata": {},
   "outputs": [
    {
     "name": "stdout",
     "output_type": "stream",
     "text": [
      "                Model  Train Loss  Train Accuracy  Validation Loss  \\\n",
      "0  CNN - Dropout(0.5)    1.350877        0.292247         1.338094   \n",
      "\n",
      "   Validation Accuracy  Test Loss  Test Accuracy  \n",
      "0             0.271777   1.442844       0.187817  \n"
     ]
    }
   ],
   "source": [
    "print(results_df)"
   ]
  },
  {
   "cell_type": "markdown",
   "metadata": {},
   "source": [
    "Rezultati"
   ]
  },
  {
   "cell_type": "code",
   "execution_count": 109,
   "metadata": {},
   "outputs": [
    {
     "data": {
      "image/png": "[encoded data removed]",
      "text/plain": [
       "<Figure size 1200x400 with 2 Axes>"
      ]
     },
     "metadata": {},
     "output_type": "display_data"
    }
   ],
   "source": [
    "# train history\n",
    "plt.figure(figsize=(12, 4))\n",
    "\n",
    "# training, validation accuracy \n",
    "plt.subplot(1, 2, 1)\n",
    "plt.plot(history.history['accuracy'])\n",
    "plt.plot(history.history['val_accuracy'])\n",
    "plt.title('Model Accuracy')\n",
    "plt.xlabel('Epoch')\n",
    "plt.ylabel('Accuracy')\n",
    "plt.legend(['Train', 'Validation'], loc='upper left')\n",
    "\n",
    "# training, validation loss\n",
    "plt.subplot(1, 2, 2)\n",
    "plt.plot(history.history['loss'])\n",
    "plt.plot(history.history['val_loss'])\n",
    "plt.title('Model Loss')\n",
    "plt.xlabel('Epoch')\n",
    "plt.ylabel('Loss')\n",
    "plt.legend(['Train', 'Validation'], loc='upper left')\n",
    "\n",
    "plt.tight_layout()\n",
    "plt.show()"
   ]
  },
  {
   "cell_type": "markdown",
   "metadata": {},
   "source": [
    "Karakeristika modela : rucno postavljen learning rate na 0.005\n",
    "\n",
    "**Accuracy** \n",
    "\n",
    "Visoke oscilacije u tačnosti: Tačnost na treningu i validaciji pokazuje znatne oscilacije kroz sve epohe. Ovo može biti posledica prevelikog learning rate-a, koji uzrokuje da se optimizator pravi prevelike korake i time stalno preskace optimum.\n",
    "\n",
    "Niska tačnost: Maksimalne vrednosti tačnosti koje ne prelaze 0.3 ukazuju na to da model ima poteškoće sa učenjem iz dostupnih podataka, što bi takođe moglo biti posledica neadekvatnog learning rate-a koji onemogućava stabilno učenje.\n",
    "\n",
    "**Loss**\n",
    "\n",
    "Greska na trening setu brzo pada na početku treniranja, što je tipično za situacije sa većim learning rate-om, ali se zatim stabilizuje, što ukazuje na to da model ne uspeva dodatno poboljšati svoje predikcije uprkos daljem treniranju.\n",
    "\n",
    "Stabilizacija greske: Greska na validacionom skupu pokazuje sličan trend stabilizacije sto nam govori da je ovaj model dostigao stoj maksimum generalizacije\n",
    "\n"
   ]
  },
  {
   "cell_type": "markdown",
   "metadata": {},
   "source": []
  }
 ],
 "metadata": {
  "kernelspec": {
   "display_name": "Python 3",
   "language": "python",
   "name": "python3"
  },
  "language_info": {
   "codemirror_mode": {
    "name": "ipython",
    "version": 3
   },
   "file_extension": ".py",
   "mimetype": "text/x-python",
   "name": "python",
   "nbconvert_exporter": "python",
   "pygments_lexer": "ipython3",
   "version": "3.10.12"
  }
 },
 "nbformat": 4,
 "nbformat_minor": 2
}
